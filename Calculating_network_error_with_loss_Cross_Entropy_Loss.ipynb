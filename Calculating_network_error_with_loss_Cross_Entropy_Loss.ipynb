{
  "nbformat": 4,
  "nbformat_minor": 0,
  "metadata": {
    "colab": {
      "provenance": [],
      "authorship_tag": "ABX9TyNm6jJiqbnrHPzKnt9kZZ+6",
      "include_colab_link": true
    },
    "kernelspec": {
      "name": "python3",
      "display_name": "Python 3"
    },
    "language_info": {
      "name": "python"
    }
  },
  "cells": [
    {
      "cell_type": "markdown",
      "metadata": {
        "id": "view-in-github",
        "colab_type": "text"
      },
      "source": [
        "<a href=\"https://colab.research.google.com/github/Hashhhhhhhh/ML-with-Python/blob/main/Calculating_network_error_with_loss_Cross_Entropy_Loss.ipynb\" target=\"_parent\"><img src=\"https://colab.research.google.com/assets/colab-badge.svg\" alt=\"Open In Colab\"/></a>"
      ]
    },
    {
      "cell_type": "code",
      "execution_count": 1,
      "metadata": {
        "colab": {
          "base_uri": "https://localhost:8080/"
        },
        "id": "FHaxsg37wBK0",
        "outputId": "aa8357c3-b437-47d7-e196-3bf0f6ff0c10"
      },
      "outputs": [
        {
          "output_type": "stream",
          "name": "stdout",
          "text": [
            "[0.7 0.5 0.9]\n"
          ]
        }
      ],
      "source": [
        "import numpy as np\n",
        "softmax_outputs = np.array([[0.7, 0.1, 0.2],\n",
        " [0.1, 0.5, 0.4],\n",
        " [0.02, 0.9, 0.08]])\n",
        "class_targets = [0, 1, 1]\n",
        "print(softmax_outputs[[0, 1, 2], class_targets])"
      ]
    },
    {
      "cell_type": "code",
      "source": [
        "range(len(softmax_outputs))"
      ],
      "metadata": {
        "colab": {
          "base_uri": "https://localhost:8080/"
        },
        "id": "Uor_borPW2RY",
        "outputId": "d9dace8d-6b01-4482-d6a0-41a63663f23e"
      },
      "execution_count": 2,
      "outputs": [
        {
          "output_type": "execute_result",
          "data": {
            "text/plain": [
              "range(0, 3)"
            ]
          },
          "metadata": {},
          "execution_count": 2
        }
      ]
    },
    {
      "cell_type": "code",
      "source": [
        "print(-np.log(softmax_outputs[\n",
        " range(len(softmax_outputs)), class_targets\n",
        "]))\n",
        "neg_log = -np.log(softmax_outputs[\n",
        " range(len(softmax_outputs)), class_targets\n",
        " ])\n",
        "average_loss = np.mean(neg_log)\n",
        "print(average_loss)"
      ],
      "metadata": {
        "id": "J1agGf6gBSyw",
        "colab": {
          "base_uri": "https://localhost:8080/"
        },
        "outputId": "cc085a07-02d8-4c08-af06-2bede306d8ce"
      },
      "execution_count": 4,
      "outputs": [
        {
          "output_type": "stream",
          "name": "stdout",
          "text": [
            "[0.35667494 0.69314718 0.10536052]\n",
            "0.38506088005216804\n"
          ]
        }
      ]
    },
    {
      "cell_type": "markdown",
      "source": [
        "If the data is one hot encoded!!\n",
        "\n",
        "One-Hot encoding converts categorical data into binary data. For example, A feature fruit with values : apple, mango,orange. After encoding:\n"
      ],
      "metadata": {
        "id": "S5ULt4iTaFgq"
      }
    },
    {
      "cell_type": "code",
      "source": [
        "import numpy as np\n",
        "\n",
        "matrix = np.array([[1, 0,0], [0, 1, 0],[0,0,1]])\n",
        "\n",
        "print(matrix)\n"
      ],
      "metadata": {
        "colab": {
          "base_uri": "https://localhost:8080/"
        },
        "id": "qld_Cqsga_As",
        "outputId": "382390b4-9f82-4d9e-a036-44fa740f7635"
      },
      "execution_count": 7,
      "outputs": [
        {
          "output_type": "stream",
          "name": "stdout",
          "text": [
            "[[1 0 0]\n",
            " [0 1 0]\n",
            " [0 0 1]]\n"
          ]
        }
      ]
    },
    {
      "cell_type": "code",
      "source": [
        "y_true_check = np.array([\n",
        "    [1, 0, 0],\n",
        "    [0, 1, 0],\n",
        "    [0, 1, 0]\n",
        "])\n",
        "y_pred_clipped_check = np.array([\n",
        "    [0.7, 0.2, 0.1],\n",
        "    [0.1, 0.5, 0.4],\n",
        "    [0.02, 0.9, 0.08]\n",
        "])\n",
        "A = y_true_check*y_pred_clipped_check\n",
        "B = np.sum(A, axis = 1)\n",
        "C = - np.log(B)\n",
        "print(C)\n",
        "print(np.mean(C))"
      ],
      "metadata": {
        "colab": {
          "base_uri": "https://localhost:8080/"
        },
        "id": "pqci8o6XXE9G",
        "outputId": "831bf573-0bfc-4369-da79-c9889c968a2d"
      },
      "execution_count": 5,
      "outputs": [
        {
          "output_type": "stream",
          "name": "stdout",
          "text": [
            "[0.35667494 0.69314718 0.10536052]\n",
            "0.38506088005216804\n"
          ]
        }
      ]
    }
  ]
}